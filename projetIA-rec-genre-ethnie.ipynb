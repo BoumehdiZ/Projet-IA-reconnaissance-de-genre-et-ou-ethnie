{
 "cells": [
  {
   "cell_type": "markdown",
   "id": "47529cbd",
   "metadata": {},
   "source": [
    "## Sources\n",
    "https://jovian.ai/sanketec87/gender-classification-pytorch-cnn-project"
   ]
  },
  {
   "cell_type": "markdown",
   "id": "25e2e3b1",
   "metadata": {},
   "source": [
    "## Importation des librairies"
   ]
  },
  {
   "cell_type": "code",
   "execution_count": 1,
   "id": "2b5ef538",
   "metadata": {},
   "outputs": [],
   "source": [
    "import os\n",
    "import pandas as pd\n",
    "import numpy as np"
   ]
  },
  {
   "cell_type": "markdown",
   "id": "ab529e7f",
   "metadata": {},
   "source": [
    "## Récupération des données"
   ]
  },
  {
   "cell_type": "code",
   "execution_count": 2,
   "id": "ae3376e5",
   "metadata": {},
   "outputs": [],
   "source": [
    "path = \"./UTKFace\""
   ]
  },
  {
   "cell_type": "code",
   "execution_count": 3,
   "id": "3b106b9f",
   "metadata": {},
   "outputs": [],
   "source": [
    "df = pd.DataFrame(columns=['age', 'gender', 'ethnicity', 'image'])\n",
    "for i in os.listdir(path):\n",
    "    split = i.split(\"_\")\n",
    "    df2 = pd.DataFrame(data=np.array([[split[0]], [split[1]], [split[2]], [i]]).T, columns=['age', 'gender', 'ethnicity', 'image'])\n",
    "    df = pd.concat([df, df2])"
   ]
  },
  {
   "cell_type": "code",
   "execution_count": 4,
   "id": "f7afab7a",
   "metadata": {},
   "outputs": [],
   "source": [
    "df[['age', 'gender', 'ethnicity']] = df[['age', 'gender', 'ethnicity']].apply(pd.to_numeric)"
   ]
  },
  {
   "cell_type": "code",
   "execution_count": 5,
   "id": "0de29090",
   "metadata": {},
   "outputs": [
    {
     "data": {
      "text/plain": [
       "age           int64\n",
       "gender        int64\n",
       "ethnicity     int64\n",
       "image        object\n",
       "dtype: object"
      ]
     },
     "execution_count": 5,
     "metadata": {},
     "output_type": "execute_result"
    }
   ],
   "source": [
    "df.dtypes"
   ]
  },
  {
   "cell_type": "markdown",
   "id": "a294c615",
   "metadata": {},
   "source": [
    "## Analyse des données"
   ]
  },
  {
   "cell_type": "code",
   "execution_count": 6,
   "id": "3e383d90",
   "metadata": {},
   "outputs": [],
   "source": [
    "ethnicity = {\n",
    "    0: 'white', \n",
    "    1: 'black', \n",
    "    2: 'asian', \n",
    "    3: 'indian', \n",
    "    4: 'others'\n",
    "}\n",
    "\n",
    "ethnicity2 = {\n",
    "    0: 'white', \n",
    "    1: 'not white', \n",
    "}\n",
    "\n",
    "gender = {\n",
    "    0: 'male',\n",
    "    1: 'female'\n",
    "}"
   ]
  },
  {
   "cell_type": "code",
   "execution_count": 7,
   "id": "7523c814",
   "metadata": {},
   "outputs": [
    {
     "data": {
      "text/html": [
       "<div>\n",
       "<style scoped>\n",
       "    .dataframe tbody tr th:only-of-type {\n",
       "        vertical-align: middle;\n",
       "    }\n",
       "\n",
       "    .dataframe tbody tr th {\n",
       "        vertical-align: top;\n",
       "    }\n",
       "\n",
       "    .dataframe thead th {\n",
       "        text-align: right;\n",
       "    }\n",
       "</style>\n",
       "<table border=\"1\" class=\"dataframe\">\n",
       "  <thead>\n",
       "    <tr style=\"text-align: right;\">\n",
       "      <th></th>\n",
       "      <th>age</th>\n",
       "      <th>gender</th>\n",
       "      <th>ethnicity</th>\n",
       "      <th>image</th>\n",
       "    </tr>\n",
       "  </thead>\n",
       "  <tbody>\n",
       "    <tr>\n",
       "      <th>0</th>\n",
       "      <td>100</td>\n",
       "      <td>0</td>\n",
       "      <td>0</td>\n",
       "      <td>100_0_0_20170112213500903.jpg.chip.jpg</td>\n",
       "    </tr>\n",
       "    <tr>\n",
       "      <th>0</th>\n",
       "      <td>100</td>\n",
       "      <td>0</td>\n",
       "      <td>0</td>\n",
       "      <td>100_0_0_20170112215240346.jpg.chip.jpg</td>\n",
       "    </tr>\n",
       "    <tr>\n",
       "      <th>0</th>\n",
       "      <td>100</td>\n",
       "      <td>1</td>\n",
       "      <td>0</td>\n",
       "      <td>100_1_0_20170110183726390.jpg.chip.jpg</td>\n",
       "    </tr>\n",
       "    <tr>\n",
       "      <th>0</th>\n",
       "      <td>100</td>\n",
       "      <td>1</td>\n",
       "      <td>0</td>\n",
       "      <td>100_1_0_20170112213001988.jpg.chip.jpg</td>\n",
       "    </tr>\n",
       "    <tr>\n",
       "      <th>0</th>\n",
       "      <td>100</td>\n",
       "      <td>1</td>\n",
       "      <td>0</td>\n",
       "      <td>100_1_0_20170112213303693.jpg.chip.jpg</td>\n",
       "    </tr>\n",
       "  </tbody>\n",
       "</table>\n",
       "</div>"
      ],
      "text/plain": [
       "   age  gender  ethnicity                                   image\n",
       "0  100       0          0  100_0_0_20170112213500903.jpg.chip.jpg\n",
       "0  100       0          0  100_0_0_20170112215240346.jpg.chip.jpg\n",
       "0  100       1          0  100_1_0_20170110183726390.jpg.chip.jpg\n",
       "0  100       1          0  100_1_0_20170112213001988.jpg.chip.jpg\n",
       "0  100       1          0  100_1_0_20170112213303693.jpg.chip.jpg"
      ]
     },
     "execution_count": 7,
     "metadata": {},
     "output_type": "execute_result"
    }
   ],
   "source": [
    "df.head()"
   ]
  },
  {
   "cell_type": "code",
   "execution_count": 8,
   "id": "f152cd6b",
   "metadata": {},
   "outputs": [
    {
     "data": {
      "text/plain": [
       "(23708, 4)"
      ]
     },
     "execution_count": 8,
     "metadata": {},
     "output_type": "execute_result"
    }
   ],
   "source": [
    "df.shape"
   ]
  },
  {
   "cell_type": "code",
   "execution_count": 9,
   "id": "a619f27f",
   "metadata": {},
   "outputs": [
    {
     "data": {
      "text/plain": [
       "array([[<AxesSubplot:title={'center':'age'}>,\n",
       "        <AxesSubplot:title={'center':'gender'}>],\n",
       "       [<AxesSubplot:title={'center':'ethnicity'}>, <AxesSubplot:>]],\n",
       "      dtype=object)"
      ]
     },
     "execution_count": 9,
     "metadata": {},
     "output_type": "execute_result"
    },
    {
     "data": {
      "image/png": "[encoded data removed]",
      "text/plain": [
       "<Figure size 1152x576 with 4 Axes>"
      ]
     },
     "metadata": {
      "needs_background": "light"
     },
     "output_type": "display_data"
    }
   ],
   "source": [
    "df[['age', 'gender', 'ethnicity']].hist(figsize=(16,8))"
   ]
  },
  {
   "cell_type": "markdown",
   "id": "aa589d2c",
   "metadata": {},
   "source": [
    "## Transformation des données"
   ]
  },
  {
   "cell_type": "code",
   "execution_count": 10,
   "id": "fed6cf1a",
   "metadata": {},
   "outputs": [],
   "source": [
    "import torch\n",
    "from torch.utils.data import Dataset, DataLoader\n",
    "import torchvision\n",
    "from PIL import Image\n",
    "import matplotlib.pyplot as plt"
   ]
  },
  {
   "cell_type": "code",
   "execution_count": 11,
   "id": "78688185",
   "metadata": {},
   "outputs": [],
   "source": [
    "def get_device():\n",
    "    if torch.cuda.is_available():\n",
    "        return torch.device('cuda')\n",
    "    return torch.device('cpu')\n",
    "device = get_device()"
   ]
  },
  {
   "cell_type": "code",
   "execution_count": 12,
   "id": "50afc16a",
   "metadata": {},
   "outputs": [],
   "source": [
    "class UTKFace(Dataset):\n",
    "    def __init__(self, df):\n",
    "        self.df = df\n",
    "        \n",
    "    def __len__(self):\n",
    "        return len(self.df)\n",
    "\n",
    "    def __getitem__(self, index):\n",
    "        row = self.df.iloc[index]\n",
    "        #img = torchvision.transforms.functional.to_tensor(Image.open(path + '/' + row['image']))\n",
    "        #torchvision.transforms.functional.adjust_brightness(img, 1.3)\n",
    "        return (\n",
    "            torchvision.transforms.functional.to_tensor(Image.open(path + '/' + row['image'])),\n",
    "            torch.tensor(row['gender']),\n",
    "        )"
   ]
  },
  {
   "cell_type": "code",
   "execution_count": 13,
   "id": "58ef78a1",
   "metadata": {},
   "outputs": [],
   "source": [
    "data = UTKFace(df)"
   ]
  },
  {
   "cell_type": "code",
   "execution_count": 14,
   "id": "50ebec71",
   "metadata": {},
   "outputs": [],
   "source": [
    "train_set, valid_set = torch.utils.data.random_split(data, [13708, 10000])\n",
    "test_set, valid_set = torch.utils.data.random_split(valid_set, [5000, 5000])\n",
    "train_loader = DataLoader(train_set, batch_size=50, shuffle=True, pin_memory = True)\n",
    "valid_loader = DataLoader(valid_set, batch_size=50, shuffle=True, pin_memory = True)\n",
    "test_loader = DataLoader(test_set, batch_size=250, shuffle=True, pin_memory = True)"
   ]
  },
  {
   "cell_type": "markdown",
   "id": "34e9b84a",
   "metadata": {},
   "source": [
    "### Data Augmentation"
   ]
  },
  {
   "cell_type": "markdown",
   "id": "e0731b75",
   "metadata": {},
   "source": [
    "https://pytorch.org/vision/master/transforms.html"
   ]
  },
  {
   "cell_type": "markdown",
   "id": "7a2073d5",
   "metadata": {},
   "source": [
    "## Conception du réseau de neurones"
   ]
  },
  {
   "cell_type": "code",
   "execution_count": 15,
   "id": "4e6c4736",
   "metadata": {},
   "outputs": [],
   "source": [
    "import torch.nn as nn\n",
    "import torch.nn.functional as func"
   ]
  },
  {
   "cell_type": "code",
   "execution_count": 16,
   "id": "63d6097d",
   "metadata": {},
   "outputs": [],
   "source": [
    "class CNN(nn.Module):\n",
    "    def __init__(self):\n",
    "        super(CNN, self).__init__()\n",
    "        self.conv1 = nn.Conv2d(in_channels=3, out_channels=8, kernel_size=5)\n",
    "        self.conv2 = nn.Conv2d(in_channels=8, out_channels=16, kernel_size=3)\n",
    "        self.conv3 = nn.Conv2d(in_channels=16, out_channels=32, kernel_size=4)\n",
    "        self.pool = nn.MaxPool2d(2, 2)\n",
    "        self.flat = nn.Flatten()\n",
    "        self.lin1 = nn.Linear(32*22*22, 5000)\n",
    "        self.lin2 = nn.Linear(5000, 100)\n",
    "        self.lin3 = nn.Linear(100, 2)\n",
    "        \n",
    "    def forward(self, x):\n",
    "        x = self.pool(func.relu(self.conv1(x)))\n",
    "        x = self.pool(func.relu(self.conv2(x)))\n",
    "        x = self.pool(func.relu(self.conv3(x)))\n",
    "        x = self.flat(x)\n",
    "        x = func.relu(self.lin1(x))\n",
    "        x = func.relu(self.lin2(x))\n",
    "        x = self.lin3(x)\n",
    "        return x"
   ]
  },
  {
   "cell_type": "code",
   "execution_count": 17,
   "id": "57a44bae",
   "metadata": {},
   "outputs": [],
   "source": [
    "loss = nn.CrossEntropyLoss()\n",
    "model = CNN().to(device)"
   ]
  },
  {
   "cell_type": "code",
   "execution_count": 18,
   "id": "98b68e01",
   "metadata": {},
   "outputs": [],
   "source": [
    "def train_loop(model, f_loss, dataloader, optimizer):\n",
    "    err_train = 0\n",
    "    train_acc = 0\n",
    "    model.train()\n",
    "    \n",
    "    for batch, (X, y) in enumerate(dataloader):\n",
    "        X, y = X.cuda(), y.cuda()\n",
    "        \n",
    "        optimizer.zero_grad()\n",
    "        pred = model(X)\n",
    "        loss = f_loss(pred, y)\n",
    "        loss.backward()\n",
    "        optimizer.step()\n",
    "        torch.cuda.empty_cache()\n",
    "        \n",
    "        err_train += loss.item()\n",
    "        train_acc += torch.sum(y == pred.argmax(dim=1)).float()\n",
    "        \n",
    "    err_train /= len(dataloader)\n",
    "    train_acc /= float(len(dataloader.sampler))\n",
    "    return err_train, train_acc.item()"
   ]
  },
  {
   "cell_type": "code",
   "execution_count": 19,
   "id": "63dfacc3",
   "metadata": {},
   "outputs": [],
   "source": [
    "def val_loop(model, f_loss, dataloader):\n",
    "    err_val = 0\n",
    "    val_acc = 0\n",
    "    \n",
    "    with torch.no_grad():\n",
    "        model.eval()\n",
    "        for X, y in dataloader:\n",
    "            X, y = X.cuda(), y.cuda()\n",
    "            pred = model(X)\n",
    "            err_val += f_loss(pred, y).item() \n",
    "            val_acc += torch.sum(y == pred.argmax(dim=1)).float()\n",
    "            torch.cuda.empty_cache()\n",
    "            \n",
    "    err_val /= len(dataloader)\n",
    "    val_acc /= float(len(dataloader.sampler))\n",
    "    return err_val, val_acc.item()"
   ]
  },
  {
   "cell_type": "code",
   "execution_count": 20,
   "id": "a82e97a7",
   "metadata": {},
   "outputs": [],
   "source": [
    "def test_loop(model, f_loss, dataloader):\n",
    "    err_test = 0\n",
    "    test_acc = 0\n",
    "\n",
    "    for X, y in dataloader:\n",
    "        X, y = X.cuda(), y.cuda()\n",
    "        pred = model(X)\n",
    "        err_test += f_loss(pred, y).item() \n",
    "        test_acc += torch.sum(y == pred.argmax(dim=1)).float()\n",
    "        torch.cuda.empty_cache()\n",
    "    \n",
    "    err_test /= len(dataloader)\n",
    "    test_acc /= float(len(dataloader.sampler))\n",
    "    return err_test, test_acc.item()"
   ]
  },
  {
   "cell_type": "code",
   "execution_count": 21,
   "id": "51a83fa6",
   "metadata": {},
   "outputs": [],
   "source": [
    "import matplotlib.pyplot as plt\n",
    "%matplotlib inline"
   ]
  },
  {
   "cell_type": "code",
   "execution_count": 22,
   "id": "adbe8540",
   "metadata": {},
   "outputs": [],
   "source": [
    "def model_loop(model, f_loss, train_loader, test_loader, optimizer, epochs=10):\n",
    "    err_train_list = []\n",
    "    err_val_list = []\n",
    "    acc_train_list = []\n",
    "    acc_val_list = []\n",
    "    \n",
    "    for e in range(1, epochs+1):\n",
    "        print(\"----------- Epoch {} -----------\".format(e))\n",
    "        err_train, train_acc = train_loop(model, f_loss, train_loader, optimizer)\n",
    "        err_val, val_acc = val_loop(model, f_loss, test_loader)\n",
    "        \n",
    "        err_train_list.append(err_train)\n",
    "        err_val_list.append(err_val)\n",
    "        acc_train_list.append(train_acc)\n",
    "        acc_val_list.append(val_acc)\n",
    "        \n",
    "        print(\"ErrTrain: {: .3f} | AccTrain: {: .3f} | ErrVAL: {: .3f} | AccVAL: {: .3f}\".format(err_train, train_acc, err_val, val_acc))\n",
    "\n",
    "    fig, (ax1, ax2) = plt.subplots(1, 2, figsize=(16, 4))\n",
    "    fig.suptitle('Model Loop')\n",
    "    \n",
    "    ax1.plot(range(1, epochs+1), err_train_list, c='r', label='Erreur Train')\n",
    "    ax1.plot(range(1, epochs+1), acc_train_list, c='g', label='Accuracy Train')\n",
    "    ax1.legend()\n",
    "    \n",
    "    ax2.plot(range(1, epochs+1), err_val_list, c='r', label='Erreur Validation')\n",
    "    ax2.plot(range(1, epochs+1), acc_val_list, c='g', label='Accuracy Validation')\n",
    "    ax2.legend()\n",
    "    \n",
    "    return model"
   ]
  },
  {
   "cell_type": "code",
   "execution_count": null,
   "id": "7d4228f3",
   "metadata": {
    "scrolled": true
   },
   "outputs": [
    {
     "name": "stdout",
     "output_type": "stream",
     "text": [
      "----------- Epoch 1 -----------\n",
      "ErrTrain:  0.694 | AccTrain:  0.478 | ErrVAL:  0.693 | AccVAL:  0.470\n",
      "----------- Epoch 2 -----------\n",
      "ErrTrain:  0.693 | AccTrain:  0.506 | ErrVAL:  0.692 | AccVAL:  0.601\n",
      "----------- Epoch 3 -----------\n",
      "ErrTrain:  0.691 | AccTrain:  0.627 | ErrVAL:  0.691 | AccVAL:  0.631\n",
      "----------- Epoch 4 -----------\n",
      "ErrTrain:  0.690 | AccTrain:  0.600 | ErrVAL:  0.689 | AccVAL:  0.607\n",
      "----------- Epoch 5 -----------\n",
      "ErrTrain:  0.689 | AccTrain:  0.590 | ErrVAL:  0.688 | AccVAL:  0.596\n",
      "----------- Epoch 6 -----------\n",
      "ErrTrain:  0.687 | AccTrain:  0.595 | ErrVAL:  0.686 | AccVAL:  0.625\n",
      "----------- Epoch 7 -----------\n",
      "ErrTrain:  0.685 | AccTrain:  0.615 | ErrVAL:  0.683 | AccVAL:  0.661\n",
      "----------- Epoch 8 -----------\n",
      "ErrTrain:  0.682 | AccTrain:  0.652 | ErrVAL:  0.678 | AccVAL:  0.668\n",
      "----------- Epoch 9 -----------\n"
     ]
    }
   ],
   "source": [
    "optimizer = torch.optim.SGD(model.parameters(), lr=1e-3)\n",
    "model_sgd = model_loop(model, loss, train_loader, valid_loader, optimizer, epochs=10)"
   ]
  },
  {
   "cell_type": "code",
   "execution_count": null,
   "id": "60979fb5",
   "metadata": {},
   "outputs": [],
   "source": [
    "model = model_sgd"
   ]
  },
  {
   "cell_type": "code",
   "execution_count": null,
   "id": "eeb14df3",
   "metadata": {},
   "outputs": [],
   "source": [
    "def weight_reset(m):\n",
    "    reset_parameters = getattr(m, \"reset_parameters\", None)\n",
    "    if callable(reset_parameters):\n",
    "        m.reset_parameters()\n",
    "\n",
    "#model.apply(weight_reset)"
   ]
  },
  {
   "cell_type": "code",
   "execution_count": null,
   "id": "030787ce",
   "metadata": {},
   "outputs": [],
   "source": [
    "\"\"\"\n",
    "optimizer = torch.optim.Adam(model.parameters(), lr=1e-3)\n",
    "model_adam = model_loop(model, loss, train_loader, valid_loader, optimizer, epochs=10)\n",
    "model = model_adam\n",
    "\"\"\""
   ]
  },
  {
   "cell_type": "markdown",
   "id": "2454beb1",
   "metadata": {},
   "source": [
    "https://www.google.com/search?q=plt.plot+3+axis&rlz=1C1VDKB_frFR976FR976&sxsrf=APq-WBvV9JM_KJZyR0Y4729snW-Fn7OHUg%3A1647034652063&ei=HMErYrPBA47G4-EPv7KSkAw&oq=plt.plot+3+a&gs_lcp=Cgdnd3Mtd2l6EAMYADIFCCEQoAEyBQghEKABMgUIIRCgAToHCCMQsAMQJzoICAAQgAQQsAM6BAgjECc6CggAEIAEEIcCEBQ6BQgAEIAEOgYIABAWEB5KBAhBGAFKBAhGGABQ8QhYpw1g-xdoAXAAeACAAVWIAYsCkgEBNJgBAKABAcgBCsABAQ&sclient=gws-wiz"
   ]
  },
  {
   "cell_type": "code",
   "execution_count": null,
   "id": "e10b5a2f",
   "metadata": {},
   "outputs": [],
   "source": [
    "test_loop(model, loss, test_loader)"
   ]
  },
  {
   "cell_type": "markdown",
   "id": "8e03591b",
   "metadata": {},
   "source": [
    "https://discuss.pytorch.org/t/how-to-split-test-and-train-data-keeping-equal-proportions-of-each-class/21063/18\n",
    "\n",
    "http://man.hubwiz.com/docset/PyTorch.docset/Contents/Resources/Documents/data.html?highlight=sampler#torch.utils.data.Sampler\n",
    "\n",
    "https://medium.com/mlearning-ai/cnns-with-pytorch-6cf7ed114af7"
   ]
  },
  {
   "cell_type": "markdown",
   "id": "3312d6c6",
   "metadata": {},
   "source": [
    "## Test avec des images du dataset"
   ]
  },
  {
   "cell_type": "code",
   "execution_count": null,
   "id": "b1793d78",
   "metadata": {},
   "outputs": [],
   "source": [
    "img_test, label_test = test_set.__getitem__(0)"
   ]
  },
  {
   "cell_type": "code",
   "execution_count": null,
   "id": "7209b816",
   "metadata": {},
   "outputs": [],
   "source": [
    "plt.imshow(img_test.permute(1, 2, 0))"
   ]
  },
  {
   "cell_type": "code",
   "execution_count": null,
   "id": "bafb4a12",
   "metadata": {},
   "outputs": [],
   "source": [
    "img_test = img_test.reshape(1, 3, 200, 200)"
   ]
  },
  {
   "cell_type": "code",
   "execution_count": null,
   "id": "9c9c41b0",
   "metadata": {},
   "outputs": [],
   "source": [
    "img_test.shape"
   ]
  },
  {
   "cell_type": "code",
   "execution_count": null,
   "id": "78e9d7ef",
   "metadata": {},
   "outputs": [],
   "source": [
    "model(img_test.cuda())"
   ]
  },
  {
   "cell_type": "code",
   "execution_count": null,
   "id": "f8ed17af",
   "metadata": {},
   "outputs": [],
   "source": [
    "label_test"
   ]
  },
  {
   "cell_type": "code",
   "execution_count": null,
   "id": "89430e37",
   "metadata": {},
   "outputs": [],
   "source": [
    "img_train, label_train = train_set.__getitem__(0)"
   ]
  },
  {
   "cell_type": "code",
   "execution_count": null,
   "id": "af076693",
   "metadata": {},
   "outputs": [],
   "source": [
    "plt.imshow(img_train.permute(1, 2, 0))"
   ]
  },
  {
   "cell_type": "code",
   "execution_count": null,
   "id": "d14a8517",
   "metadata": {},
   "outputs": [],
   "source": [
    "img_train = img_train.reshape(1, 3, 200, 200)"
   ]
  },
  {
   "cell_type": "code",
   "execution_count": null,
   "id": "12f9cf99",
   "metadata": {},
   "outputs": [],
   "source": [
    "img_train.shape"
   ]
  },
  {
   "cell_type": "code",
   "execution_count": null,
   "id": "8b762810",
   "metadata": {},
   "outputs": [],
   "source": [
    "model(img_train.cuda())"
   ]
  },
  {
   "cell_type": "code",
   "execution_count": null,
   "id": "dc9b906d",
   "metadata": {},
   "outputs": [],
   "source": [
    "label_train"
   ]
  },
  {
   "cell_type": "code",
   "execution_count": null,
   "id": "8bc746ea",
   "metadata": {},
   "outputs": [],
   "source": [
    "torch.cuda.empty_cache()"
   ]
  },
  {
   "cell_type": "markdown",
   "id": "bb85e885",
   "metadata": {},
   "source": [
    "## Test avec une image inconnue"
   ]
  },
  {
   "cell_type": "code",
   "execution_count": null,
   "id": "f1528905",
   "metadata": {},
   "outputs": [],
   "source": [
    "img = torchvision.transforms.functional.to_tensor(Image.open('siphano.jpg'))"
   ]
  },
  {
   "cell_type": "code",
   "execution_count": null,
   "id": "f710c1a4",
   "metadata": {},
   "outputs": [],
   "source": [
    "plt.imshow(img.permute(1, 2, 0))"
   ]
  },
  {
   "cell_type": "code",
   "execution_count": null,
   "id": "6f7461b6",
   "metadata": {},
   "outputs": [],
   "source": [
    "img.shape"
   ]
  },
  {
   "cell_type": "code",
   "execution_count": null,
   "id": "48b3f631",
   "metadata": {},
   "outputs": [],
   "source": [
    "img"
   ]
  },
  {
   "cell_type": "code",
   "execution_count": null,
   "id": "198fdbd0",
   "metadata": {},
   "outputs": [],
   "source": [
    "img = img.reshape(1, 3, 200, 200)"
   ]
  },
  {
   "cell_type": "code",
   "execution_count": null,
   "id": "87c41751",
   "metadata": {},
   "outputs": [],
   "source": [
    "img.shape"
   ]
  },
  {
   "cell_type": "code",
   "execution_count": null,
   "id": "b292401e",
   "metadata": {},
   "outputs": [],
   "source": [
    "model(img.cuda())"
   ]
  },
  {
   "cell_type": "markdown",
   "id": "4000754f",
   "metadata": {},
   "source": [
    "## Test avec une webcam"
   ]
  },
  {
   "cell_type": "code",
   "execution_count": null,
   "id": "99b24f44",
   "metadata": {
    "scrolled": true
   },
   "outputs": [],
   "source": [
    "!pip install opencv-python tensorflow\n",
    "!pip install cvlib\n",
    "!pip install --upgrade cvlib"
   ]
  },
  {
   "cell_type": "code",
   "execution_count": null,
   "id": "72135bf6",
   "metadata": {},
   "outputs": [],
   "source": [
    "import os\n",
    "import cvlib as cv\n",
    "import cv2"
   ]
  },
  {
   "cell_type": "code",
   "execution_count": null,
   "id": "4faf0dff",
   "metadata": {},
   "outputs": [],
   "source": [
    "webcam = cv2.VideoCapture(0)\n",
    "while webcam.isOpened():\n",
    "    status, frame = webcam.read()\n",
    "    face, confidence = cv.detect_face(frame)\n",
    "    \n",
    "    for ind, f in enumerate(face):\n",
    "        (startX, startY) = f[0], f[1]\n",
    "        (endX, endY) = f[2], f[3]\n",
    "        \n",
    "        cv2.rectangle(frame, (startX, startY), (endX, endY), (0,255,0), 2)\n",
    "        \n",
    "        face_crop = np.copy(frame[startY:endY, startX:endX])\n",
    "        \n",
    "        if (face_crop.shape[0]) < 10 or (face_crop.shape[1]) < 10:\n",
    "            continue\n",
    "            \n",
    "        face_crop = cv2.resize(face_crop, (200, 200))\n",
    "        img = torchvision.transforms.functional.to_tensor(Image.fromarray(face_crop))\n",
    "        img = img.reshape(1, 3, 200, 200)\n",
    "        \n",
    "        pred = model(img.cuda()).argmax(dim=1).item()\n",
    "        \n",
    "        label = ethnicity[pred]\n",
    "\n",
    "        label = \"Ethnicity: {}\".format(label)\n",
    "        \n",
    "        Y = startY - 10 if startY - 10 > 10 else startY + 10\n",
    "        \n",
    "        cv2.putText(frame, label, (startX, Y),  cv2.FONT_HERSHEY_SIMPLEX, 0.7, (0, 255, 0), 2)\n",
    "        \n",
    "    cv2.imshow(\"ethnicity detection\", frame)\n",
    "\n",
    "    if cv2.waitKey(1) & 0xFF == ord('q'):\n",
    "        break\n",
    "\n",
    "webcam.release()\n",
    "cv2.destroyAllWindows() "
   ]
  },
  {
   "cell_type": "code",
   "execution_count": null,
   "id": "b8e5045a",
   "metadata": {},
   "outputs": [],
   "source": []
  }
 ],
 "metadata": {
  "kernelspec": {
   "display_name": "Python 3 (ipykernel)",
   "language": "python",
   "name": "python3"
  },
  "language_info": {
   "codemirror_mode": {
    "name": "ipython",
    "version": 3
   },
   "file_extension": ".py",
   "mimetype": "text/x-python",
   "name": "python",
   "nbconvert_exporter": "python",
   "pygments_lexer": "ipython3",
   "version": "3.9.7"
  }
 },
 "nbformat": 4,
 "nbformat_minor": 5
}
